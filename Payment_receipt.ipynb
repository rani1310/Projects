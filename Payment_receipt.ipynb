{
  "nbformat": 4,
  "nbformat_minor": 0,
  "metadata": {
    "colab": {
      "provenance": []
    },
    "kernelspec": {
      "name": "python3",
      "display_name": "Python 3"
    },
    "language_info": {
      "name": "python"
    }
  },
  "cells": [
    {
      "cell_type": "code",
      "source": [
        "!pip install reportlab"
      ],
      "metadata": {
        "colab": {
          "base_uri": "https://localhost:8080/"
        },
        "id": "LTF0cXvKv0PP",
        "outputId": "63141bae-2374-4649-eb03-3883e6fead71"
      },
      "execution_count": 1,
      "outputs": [
        {
          "output_type": "stream",
          "name": "stdout",
          "text": [
            "Requirement already satisfied: reportlab in /usr/local/lib/python3.10/dist-packages (4.2.5)\n",
            "Requirement already satisfied: pillow>=9.0.0 in /usr/local/lib/python3.10/dist-packages (from reportlab) (10.4.0)\n",
            "Requirement already satisfied: chardet in /usr/local/lib/python3.10/dist-packages (from reportlab) (5.2.0)\n"
          ]
        }
      ]
    },
    {
      "cell_type": "code",
      "source": [
        "from reportlab.platypus import SimpleDocTemplate, Table, Paragraph, TableStyle\n",
        "#platypus is used when we have to import ultiple modules at once\n",
        "from reportlab.lib import colors\n",
        "from reportlab.lib.pagesizes import  A4\n",
        "from reportlab.lib.styles import getSampleStyleSheet\n",
        "from IPython.display import IFrame\n",
        "##from IPython.display import display, PDF\n",
        "\n",
        "# Display the PDF directly\n",
        "##display(PDF(\"receipt.pdf\"))\n",
        "from google.colab import files\n",
        "\n",
        "# Download the PDF file to view it\n",
        "files.download(\"receipt.pdf\")\n"
      ],
      "metadata": {
        "id": "aRpYna5XwIxd",
        "colab": {
          "base_uri": "https://localhost:8080/",
          "height": 17
        },
        "outputId": "62428168-66e4-4aab-f51d-474641972d42"
      },
      "execution_count": 13,
      "outputs": [
        {
          "output_type": "display_data",
          "data": {
            "text/plain": [
              "<IPython.core.display.Javascript object>"
            ],
            "application/javascript": [
              "\n",
              "    async function download(id, filename, size) {\n",
              "      if (!google.colab.kernel.accessAllowed) {\n",
              "        return;\n",
              "      }\n",
              "      const div = document.createElement('div');\n",
              "      const label = document.createElement('label');\n",
              "      label.textContent = `Downloading \"${filename}\": `;\n",
              "      div.appendChild(label);\n",
              "      const progress = document.createElement('progress');\n",
              "      progress.max = size;\n",
              "      div.appendChild(progress);\n",
              "      document.body.appendChild(div);\n",
              "\n",
              "      const buffers = [];\n",
              "      let downloaded = 0;\n",
              "\n",
              "      const channel = await google.colab.kernel.comms.open(id);\n",
              "      // Send a message to notify the kernel that we're ready.\n",
              "      channel.send({})\n",
              "\n",
              "      for await (const message of channel.messages) {\n",
              "        // Send a message to notify the kernel that we're ready.\n",
              "        channel.send({})\n",
              "        if (message.buffers) {\n",
              "          for (const buffer of message.buffers) {\n",
              "            buffers.push(buffer);\n",
              "            downloaded += buffer.byteLength;\n",
              "            progress.value = downloaded;\n",
              "          }\n",
              "        }\n",
              "      }\n",
              "      const blob = new Blob(buffers, {type: 'application/binary'});\n",
              "      const a = document.createElement('a');\n",
              "      a.href = window.URL.createObjectURL(blob);\n",
              "      a.download = filename;\n",
              "      div.appendChild(a);\n",
              "      a.click();\n",
              "      div.remove();\n",
              "    }\n",
              "  "
            ]
          },
          "metadata": {}
        },
        {
          "output_type": "display_data",
          "data": {
            "text/plain": [
              "<IPython.core.display.Javascript object>"
            ],
            "application/javascript": [
              "download(\"download_a44dd609-c7a5-47a7-8492-8090bc88c9ef\", \"receipt.pdf\", 2168)"
            ]
          },
          "metadata": {}
        }
      ]
    },
    {
      "cell_type": "code",
      "source": [
        "#import data\n",
        "DATA  = [\n",
        "    [ \"Date\" , \"Name\", \"Subscription\", \"Price ($.)\" ],\n",
        "    [\n",
        "        \"16/11/2020\",\n",
        "        \"Walamrt electronics\",\n",
        "        \"Lifetime\",\n",
        "        \"2500$\",\n",
        "    ],\n",
        "    [ \"16/11/2020\", \" Product return date\", \"6 months\", \"9,999.00$-\"],\n",
        "    [ \"Sub Total\", \"\", \"\", \"20,9998.00$-\"],\n",
        "    [ \"Discount\", \"\", \"\", \"-3,000.00$-\"],\n",
        "    [ \"Total\", \"\", \"\", \"17,998.00$-\"],\n",
        "]"
      ],
      "metadata": {
        "id": "vqg8qFT61oxn"
      },
      "execution_count": 3,
      "outputs": []
    },
    {
      "cell_type": "code",
      "source": [
        "#As a next step if we need to craete this in pdf format\n",
        "\n",
        "pdf= SimpleDocTemplate('receipt.pdf', pagesizes= A4)"
      ],
      "metadata": {
        "id": "Z2zfNmQl4P3z"
      },
      "execution_count": 4,
      "outputs": []
    },
    {
      "cell_type": "code",
      "source": [
        "#lets define a style\n",
        "\n",
        "styles = getSampleStyleSheet()"
      ],
      "metadata": {
        "id": "5If0KEYj5GhM"
      },
      "execution_count": 5,
      "outputs": []
    },
    {
      "cell_type": "code",
      "source": [
        "#to define style\n",
        "\n",
        "title_style = styles [\"Heading1\"]"
      ],
      "metadata": {
        "id": "O8e5XZnH5dwB"
      },
      "execution_count": 6,
      "outputs": []
    },
    {
      "cell_type": "code",
      "source": [
        "#define alignment\n",
        "\n",
        "title_style.alignment=1"
      ],
      "metadata": {
        "id": "NSAKHweG66dC"
      },
      "execution_count": 7,
      "outputs": []
    },
    {
      "cell_type": "code",
      "source": [
        "#define title\n",
        "title = Paragraph( \"Wamart Return Receipt\" , title_style )"
      ],
      "metadata": {
        "id": "5i72nc2Q7D8M"
      },
      "execution_count": 8,
      "outputs": []
    },
    {
      "cell_type": "code",
      "source": [
        "style = TableStyle(\n",
        "\t[\n",
        "\t\t( \"BOX\" , ( 0, 0 ), ( -1, -1 ), 1 , colors.black ),\n",
        "\t\t( \"GRID\" , ( 0, 0 ), ( 4 , 4 ), 1 , colors.black ),\n",
        "\t\t( \"BACKGROUND\" , ( 0, 0 ), ( 3, 0 ), colors.gray ),\n",
        "\t\t( \"TEXTCOLOR\" , ( 0, 0 ), ( -1, 0 ), colors.whitesmoke ),\n",
        "\t\t( \"ALIGN\" , ( 0, 0 ), ( -1, -1 ), \"CENTER\" ),\n",
        "\t\t( \"BACKGROUND\" , ( 0 , 1 ) , ( -1 , -1 ), colors.beige ),\n",
        "\t]\n",
        ")\n",
        "\n",
        "# creates a table object and passes the style to it\n",
        "table = Table( DATA , style = style )\n",
        "#As a final step we will build the table using pdf function\n",
        "\n",
        "pdf.build( [ title , table ] )\n",
        "\n",
        "display(IFrame('receipt.pdf', width=800, height=600))\n",
        "\n"
      ],
      "metadata": {
        "id": "hlGpPyYd7NsC",
        "colab": {
          "base_uri": "https://localhost:8080/",
          "height": 621
        },
        "outputId": "2a4cde3a-d8d4-4d21-9369-1a230e5b7052"
      },
      "execution_count": 9,
      "outputs": [
        {
          "output_type": "display_data",
          "data": {
            "text/plain": [
              "<IPython.lib.display.IFrame at 0x7894a8177580>"
            ],
            "text/html": [
              "\n",
              "        <iframe\n",
              "            width=\"800\"\n",
              "            height=\"600\"\n",
              "            src=\"receipt.pdf\"\n",
              "            frameborder=\"0\"\n",
              "            allowfullscreen\n",
              "            \n",
              "        ></iframe>\n",
              "        "
            ]
          },
          "metadata": {}
        }
      ]
    },
    {
      "cell_type": "markdown",
      "source": [],
      "metadata": {
        "id": "exrDGNj54bv5"
      }
    }
  ]
}